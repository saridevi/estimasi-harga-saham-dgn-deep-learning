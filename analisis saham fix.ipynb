{
 "cells": [
  {
   "cell_type": "markdown",
   "metadata": {
    "id": "NKwsYxAEBjbY"
   },
   "source": [
    "# Koding\n",
    "\n",
    "### Melakukan import library yang dibutuhkan"
   ]
  },
  {
   "cell_type": "code",
   "execution_count": 165,
   "metadata": {
    "_cell_guid": "b1076dfc-b9ad-4769-8c92-a6c4dae69d19",
    "_uuid": "8f2839f25d086af736a60e9eeb907d3b93b6e0e5",
    "executionInfo": {
     "elapsed": 7,
     "status": "ok",
     "timestamp": 1640356066838,
     "user": {
      "displayName": "Komang Uning Sari Devi",
      "photoUrl": "https://lh3.googleusercontent.com/a/default-user=s64",
      "userId": "11974964777379766366"
     },
     "user_tz": -420
    },
    "id": "gq1AMd_KBjbZ"
   },
   "outputs": [],
   "source": [
    "# import library pandas\n",
    "import pandas as pd\n",
    "\n",
    "# Import library numpy\n",
    "import numpy as np\n",
    "\n",
    "# Import library matplotlib untuk visualisasi\n",
    "import matplotlib.pyplot as plt\n",
    "\n",
    "# import library for build model \n",
    "from keras.layers import Dense, Dropout, SimpleRNN, LSTM\n",
    "from keras.models import Sequential\n",
    "\n",
    "# import library untuk data preprocessing\n",
    "from sklearn.preprocessing import MinMaxScaler\n",
    "from sklearn.model_selection import train_test_split\n",
    "from sklearn.metrics import r2_score"
   ]
  },
  {
   "cell_type": "code",
   "execution_count": 166,
   "metadata": {
    "colab": {
     "base_uri": "https://localhost:8080/"
    },
    "executionInfo": {
     "elapsed": 6673,
     "status": "ok",
     "timestamp": 1640356073506,
     "user": {
      "displayName": "Komang Uning Sari Devi",
      "photoUrl": "https://lh3.googleusercontent.com/a/default-user=s64",
      "userId": "11974964777379766366"
     },
     "user_tz": -420
    },
    "id": "TC721dj_F1Ru",
    "outputId": "9273a357-2578-4f22-ea3a-1604ac2ac7c3"
   },
   "outputs": [
    {
     "name": "stdout",
     "output_type": "stream",
     "text": [
      "Drive already mounted at /content/drive/; to attempt to forcibly remount, call drive.mount(\"/content/drive/\", force_remount=True).\n"
     ]
    }
   ],
   "source": [
    "from google.colab import drive\n",
    "drive.mount('/content/drive/')"
   ]
  },
  {
   "cell_type": "code",
   "execution_count": 167,
   "metadata": {
    "colab": {
     "base_uri": "https://localhost:8080/"
    },
    "executionInfo": {
     "elapsed": 31,
     "status": "ok",
     "timestamp": 1640356073507,
     "user": {
      "displayName": "Komang Uning Sari Devi",
      "photoUrl": "https://lh3.googleusercontent.com/a/default-user=s64",
      "userId": "11974964777379766366"
     },
     "user_tz": -420
    },
    "id": "ycV4PyBlF289",
    "outputId": "9a91c90d-3256-406f-feea-3ed25ce58d5c"
   },
   "outputs": [
    {
     "name": "stdout",
     "output_type": "stream",
     "text": [
      "/content/drive/My Drive/Analisis Saham\n"
     ]
    }
   ],
   "source": [
    "%cd /content/drive/My Drive/Analisis Saham/"
   ]
  },
  {
   "cell_type": "markdown",
   "metadata": {
    "id": "zP0W3OLUBjba"
   },
   "source": [
    "### Load Dataset"
   ]
  },
  {
   "cell_type": "code",
   "execution_count": 168,
   "metadata": {
    "executionInfo": {
     "elapsed": 29,
     "status": "ok",
     "timestamp": 1640356073508,
     "user": {
      "displayName": "Komang Uning Sari Devi",
      "photoUrl": "https://lh3.googleusercontent.com/a/default-user=s64",
      "userId": "11974964777379766366"
     },
     "user_tz": -420
    },
    "id": "ycdchnoZBjbb"
   },
   "outputs": [],
   "source": [
    "#Panggil file (load file bernama Saham2.xlsx) dan simpan dalam dataframe\n",
    "data = pd.read_excel('Saham2.xlsx')\n",
    "peramalan_20_des = pd.read_excel('Peramalan tanggal 20 desember.xlsx')\n",
    "peramalan_23_des = pd.read_excel('peramalan tanggal 23 desember.xlsx')"
   ]
  },
  {
   "cell_type": "code",
   "execution_count": 169,
   "metadata": {
    "colab": {
     "base_uri": "https://localhost:8080/",
     "height": 204
    },
    "executionInfo": {
     "elapsed": 29,
     "status": "ok",
     "timestamp": 1640356073509,
     "user": {
      "displayName": "Komang Uning Sari Devi",
      "photoUrl": "https://lh3.googleusercontent.com/a/default-user=s64",
      "userId": "11974964777379766366"
     },
     "user_tz": -420
    },
    "id": "Ck-su-WJBjbc",
    "outputId": "ca10fb0c-5c6f-4397-d36c-87242d8e4eec"
   },
   "outputs": [
    {
     "data": {
      "text/html": [
       "\n",
       "  <div id=\"df-3dbaa951-a48a-49f0-8ad5-7d2e10b91fcf\">\n",
       "    <div class=\"colab-df-container\">\n",
       "      <div>\n",
       "<style scoped>\n",
       "    .dataframe tbody tr th:only-of-type {\n",
       "        vertical-align: middle;\n",
       "    }\n",
       "\n",
       "    .dataframe tbody tr th {\n",
       "        vertical-align: top;\n",
       "    }\n",
       "\n",
       "    .dataframe thead th {\n",
       "        text-align: right;\n",
       "    }\n",
       "</style>\n",
       "<table border=\"1\" class=\"dataframe\">\n",
       "  <thead>\n",
       "    <tr style=\"text-align: right;\">\n",
       "      <th></th>\n",
       "      <th>Date</th>\n",
       "      <th>Price</th>\n",
       "      <th>Open</th>\n",
       "      <th>High</th>\n",
       "      <th>Low</th>\n",
       "      <th>Vol.</th>\n",
       "      <th>Change %</th>\n",
       "    </tr>\n",
       "  </thead>\n",
       "  <tbody>\n",
       "    <tr>\n",
       "      <th>0</th>\n",
       "      <td>2012-03-14</td>\n",
       "      <td>5000</td>\n",
       "      <td>5100</td>\n",
       "      <td>5100</td>\n",
       "      <td>4975</td>\n",
       "      <td>20.46M</td>\n",
       "      <td>-0.0099</td>\n",
       "    </tr>\n",
       "    <tr>\n",
       "      <th>1</th>\n",
       "      <td>2012-03-15</td>\n",
       "      <td>4975</td>\n",
       "      <td>5000</td>\n",
       "      <td>5050</td>\n",
       "      <td>4950</td>\n",
       "      <td>8.79M</td>\n",
       "      <td>-0.0050</td>\n",
       "    </tr>\n",
       "    <tr>\n",
       "      <th>2</th>\n",
       "      <td>2012-03-16</td>\n",
       "      <td>4925</td>\n",
       "      <td>4975</td>\n",
       "      <td>5000</td>\n",
       "      <td>4925</td>\n",
       "      <td>8.12M</td>\n",
       "      <td>-0.0101</td>\n",
       "    </tr>\n",
       "    <tr>\n",
       "      <th>3</th>\n",
       "      <td>2012-03-19</td>\n",
       "      <td>4900</td>\n",
       "      <td>4950</td>\n",
       "      <td>4975</td>\n",
       "      <td>4875</td>\n",
       "      <td>7.33M</td>\n",
       "      <td>-0.0051</td>\n",
       "    </tr>\n",
       "    <tr>\n",
       "      <th>4</th>\n",
       "      <td>2012-03-20</td>\n",
       "      <td>4875</td>\n",
       "      <td>4925</td>\n",
       "      <td>4925</td>\n",
       "      <td>4825</td>\n",
       "      <td>10.79M</td>\n",
       "      <td>-0.0051</td>\n",
       "    </tr>\n",
       "  </tbody>\n",
       "</table>\n",
       "</div>\n",
       "      <button class=\"colab-df-convert\" onclick=\"convertToInteractive('df-3dbaa951-a48a-49f0-8ad5-7d2e10b91fcf')\"\n",
       "              title=\"Convert this dataframe to an interactive table.\"\n",
       "              style=\"display:none;\">\n",
       "        \n",
       "  <svg xmlns=\"http://www.w3.org/2000/svg\" height=\"24px\"viewBox=\"0 0 24 24\"\n",
       "       width=\"24px\">\n",
       "    <path d=\"M0 0h24v24H0V0z\" fill=\"none\"/>\n",
       "    <path d=\"M18.56 5.44l.94 2.06.94-2.06 2.06-.94-2.06-.94-.94-2.06-.94 2.06-2.06.94zm-11 1L8.5 8.5l.94-2.06 2.06-.94-2.06-.94L8.5 2.5l-.94 2.06-2.06.94zm10 10l.94 2.06.94-2.06 2.06-.94-2.06-.94-.94-2.06-.94 2.06-2.06.94z\"/><path d=\"M17.41 7.96l-1.37-1.37c-.4-.4-.92-.59-1.43-.59-.52 0-1.04.2-1.43.59L10.3 9.45l-7.72 7.72c-.78.78-.78 2.05 0 2.83L4 21.41c.39.39.9.59 1.41.59.51 0 1.02-.2 1.41-.59l7.78-7.78 2.81-2.81c.8-.78.8-2.07 0-2.86zM5.41 20L4 18.59l7.72-7.72 1.47 1.35L5.41 20z\"/>\n",
       "  </svg>\n",
       "      </button>\n",
       "      \n",
       "  <style>\n",
       "    .colab-df-container {\n",
       "      display:flex;\n",
       "      flex-wrap:wrap;\n",
       "      gap: 12px;\n",
       "    }\n",
       "\n",
       "    .colab-df-convert {\n",
       "      background-color: #E8F0FE;\n",
       "      border: none;\n",
       "      border-radius: 50%;\n",
       "      cursor: pointer;\n",
       "      display: none;\n",
       "      fill: #1967D2;\n",
       "      height: 32px;\n",
       "      padding: 0 0 0 0;\n",
       "      width: 32px;\n",
       "    }\n",
       "\n",
       "    .colab-df-convert:hover {\n",
       "      background-color: #E2EBFA;\n",
       "      box-shadow: 0px 1px 2px rgba(60, 64, 67, 0.3), 0px 1px 3px 1px rgba(60, 64, 67, 0.15);\n",
       "      fill: #174EA6;\n",
       "    }\n",
       "\n",
       "    [theme=dark] .colab-df-convert {\n",
       "      background-color: #3B4455;\n",
       "      fill: #D2E3FC;\n",
       "    }\n",
       "\n",
       "    [theme=dark] .colab-df-convert:hover {\n",
       "      background-color: #434B5C;\n",
       "      box-shadow: 0px 1px 3px 1px rgba(0, 0, 0, 0.15);\n",
       "      filter: drop-shadow(0px 1px 2px rgba(0, 0, 0, 0.3));\n",
       "      fill: #FFFFFF;\n",
       "    }\n",
       "  </style>\n",
       "\n",
       "      <script>\n",
       "        const buttonEl =\n",
       "          document.querySelector('#df-3dbaa951-a48a-49f0-8ad5-7d2e10b91fcf button.colab-df-convert');\n",
       "        buttonEl.style.display =\n",
       "          google.colab.kernel.accessAllowed ? 'block' : 'none';\n",
       "\n",
       "        async function convertToInteractive(key) {\n",
       "          const element = document.querySelector('#df-3dbaa951-a48a-49f0-8ad5-7d2e10b91fcf');\n",
       "          const dataTable =\n",
       "            await google.colab.kernel.invokeFunction('convertToInteractive',\n",
       "                                                     [key], {});\n",
       "          if (!dataTable) return;\n",
       "\n",
       "          const docLinkHtml = 'Like what you see? Visit the ' +\n",
       "            '<a target=\"_blank\" href=https://colab.research.google.com/notebooks/data_table.ipynb>data table notebook</a>'\n",
       "            + ' to learn more about interactive tables.';\n",
       "          element.innerHTML = '';\n",
       "          dataTable['output_type'] = 'display_data';\n",
       "          await google.colab.output.renderOutput(dataTable, element);\n",
       "          const docLink = document.createElement('div');\n",
       "          docLink.innerHTML = docLinkHtml;\n",
       "          element.appendChild(docLink);\n",
       "        }\n",
       "      </script>\n",
       "    </div>\n",
       "  </div>\n",
       "  "
      ],
      "text/plain": [
       "        Date  Price  Open  High   Low    Vol.  Change %\n",
       "0 2012-03-14   5000  5100  5100  4975  20.46M   -0.0099\n",
       "1 2012-03-15   4975  5000  5050  4950   8.79M   -0.0050\n",
       "2 2012-03-16   4925  4975  5000  4925   8.12M   -0.0101\n",
       "3 2012-03-19   4900  4950  4975  4875   7.33M   -0.0051\n",
       "4 2012-03-20   4875  4925  4925  4825  10.79M   -0.0051"
      ]
     },
     "execution_count": 169,
     "metadata": {},
     "output_type": "execute_result"
    }
   ],
   "source": [
    "# tampilkan 5 baris data \n",
    "data.head()"
   ]
  },
  {
   "cell_type": "markdown",
   "metadata": {
    "id": "dT3eT3yyBjbd"
   },
   "source": [
    "### Review Data"
   ]
  },
  {
   "cell_type": "code",
   "execution_count": 170,
   "metadata": {
    "_uuid": "f7be14868f30eaa55193cb7ad2674c72c447fa59",
    "colab": {
     "base_uri": "https://localhost:8080/"
    },
    "executionInfo": {
     "elapsed": 27,
     "status": "ok",
     "timestamp": 1640356073509,
     "user": {
      "displayName": "Komang Uning Sari Devi",
      "photoUrl": "https://lh3.googleusercontent.com/a/default-user=s64",
      "userId": "11974964777379766366"
     },
     "user_tz": -420
    },
    "id": "lmJoBchSBjbe",
    "outputId": "31804ead-5f42-404f-8e2b-e889793a67e0"
   },
   "outputs": [
    {
     "name": "stdout",
     "output_type": "stream",
     "text": [
      "<class 'pandas.core.frame.DataFrame'>\n",
      "RangeIndex: 2376 entries, 0 to 2375\n",
      "Data columns (total 7 columns):\n",
      " #   Column    Non-Null Count  Dtype         \n",
      "---  ------    --------------  -----         \n",
      " 0   Date      2376 non-null   datetime64[ns]\n",
      " 1   Price     2376 non-null   int64         \n",
      " 2   Open      2376 non-null   int64         \n",
      " 3   High      2376 non-null   int64         \n",
      " 4   Low       2376 non-null   int64         \n",
      " 5   Vol.      2376 non-null   object        \n",
      " 6   Change %  2376 non-null   float64       \n",
      "dtypes: datetime64[ns](1), float64(1), int64(4), object(1)\n",
      "memory usage: 130.1+ KB\n"
     ]
    }
   ],
   "source": [
    "# Melihat Informasi lebih detail mengenai struktur DataFrame dapat dilihat menggunakan fungsi info()\n",
    "data.info()"
   ]
  },
  {
   "cell_type": "code",
   "execution_count": 171,
   "metadata": {
    "_uuid": "d1c7f3ee1eabccd4186e8046252a379ef7b5cefa",
    "executionInfo": {
     "elapsed": 25,
     "status": "ok",
     "timestamp": 1640356073510,
     "user": {
      "displayName": "Komang Uning Sari Devi",
      "photoUrl": "https://lh3.googleusercontent.com/a/default-user=s64",
      "userId": "11974964777379766366"
     },
     "user_tz": -420
    },
    "id": "jINHhJafBjbe"
   },
   "outputs": [],
   "source": [
    "# Kolom 'Price' yang akan kita gunakan dalam membangun model\n",
    "# Slice kolom 'Price' \n",
    "peramalan_20_des = peramalan_20_des.iloc[:,1:2].values\n",
    "peramalan_23_des = peramalan_23_des.iloc[:,1:2].values\n",
    "data_price = data.iloc[:,1:2].values"
   ]
  },
  {
   "cell_type": "code",
   "execution_count": 172,
   "metadata": {
    "_uuid": "3022aa336271cc887b9f29b142f7351c6840a123",
    "colab": {
     "base_uri": "https://localhost:8080/"
    },
    "executionInfo": {
     "elapsed": 25,
     "status": "ok",
     "timestamp": 1640356073511,
     "user": {
      "displayName": "Komang Uning Sari Devi",
      "photoUrl": "https://lh3.googleusercontent.com/a/default-user=s64",
      "userId": "11974964777379766366"
     },
     "user_tz": -420
    },
    "id": "dAslBtEMBjbf",
    "outputId": "b8fb7c1d-d883-4d45-96c0-d526be8e0bc8"
   },
   "outputs": [
    {
     "data": {
      "text/plain": [
       "array([[5000],\n",
       "       [4975],\n",
       "       [4925],\n",
       "       ...,\n",
       "       [6500],\n",
       "       [6425],\n",
       "       [6475]])"
      ]
     },
     "execution_count": 172,
     "metadata": {},
     "output_type": "execute_result"
    }
   ],
   "source": [
    "# cek output data_price\n",
    "data_price         "
   ]
  },
  {
   "cell_type": "code",
   "execution_count": 173,
   "metadata": {
    "colab": {
     "base_uri": "https://localhost:8080/"
    },
    "executionInfo": {
     "elapsed": 24,
     "status": "ok",
     "timestamp": 1640356073512,
     "user": {
      "displayName": "Komang Uning Sari Devi",
      "photoUrl": "https://lh3.googleusercontent.com/a/default-user=s64",
      "userId": "11974964777379766366"
     },
     "user_tz": -420
    },
    "id": "rbv-Gwl3vikU",
    "outputId": "525e1b14-a849-431b-c96f-fd4fc0729f31"
   },
   "outputs": [
    {
     "data": {
      "text/plain": [
       "array([[6550],\n",
       "       [6625],\n",
       "       [6600],\n",
       "       [6550],\n",
       "       [6475],\n",
       "       [6350],\n",
       "       [6500],\n",
       "       [6300],\n",
       "       [6525],\n",
       "       [6475],\n",
       "       [6450],\n",
       "       [6425],\n",
       "       [6350],\n",
       "       [6375],\n",
       "       [6550],\n",
       "       [6625],\n",
       "       [6550],\n",
       "       [6450],\n",
       "       [6500],\n",
       "       [6425],\n",
       "       [6475]])"
      ]
     },
     "execution_count": 173,
     "metadata": {},
     "output_type": "execute_result"
    }
   ],
   "source": [
    "peramalan_20_des"
   ]
  },
  {
   "cell_type": "code",
   "execution_count": 174,
   "metadata": {
    "colab": {
     "base_uri": "https://localhost:8080/"
    },
    "executionInfo": {
     "elapsed": 22,
     "status": "ok",
     "timestamp": 1640356073513,
     "user": {
      "displayName": "Komang Uning Sari Devi",
      "photoUrl": "https://lh3.googleusercontent.com/a/default-user=s64",
      "userId": "11974964777379766366"
     },
     "user_tz": -420
    },
    "id": "CBtVGKy366_A",
    "outputId": "38bc393b-a09d-474a-8880-2682a87e66f6"
   },
   "outputs": [
    {
     "data": {
      "text/plain": [
       "array([[6550],\n",
       "       [6475],\n",
       "       [6350],\n",
       "       [6500],\n",
       "       [6300],\n",
       "       [6525],\n",
       "       [6475],\n",
       "       [6450],\n",
       "       [6425],\n",
       "       [6350],\n",
       "       [6375],\n",
       "       [6550],\n",
       "       [6625],\n",
       "       [6550],\n",
       "       [6450],\n",
       "       [6500],\n",
       "       [6425],\n",
       "       [6475],\n",
       "       [6375],\n",
       "       [6375],\n",
       "       [6300]])"
      ]
     },
     "execution_count": 174,
     "metadata": {},
     "output_type": "execute_result"
    }
   ],
   "source": [
    "peramalan_23_des"
   ]
  },
  {
   "cell_type": "code",
   "execution_count": 175,
   "metadata": {
    "_uuid": "0fba437dbe916d38aa29f7e3b8d3c0058e72cd6f",
    "colab": {
     "base_uri": "https://localhost:8080/",
     "height": 622
    },
    "executionInfo": {
     "elapsed": 20,
     "status": "ok",
     "timestamp": 1640356073513,
     "user": {
      "displayName": "Komang Uning Sari Devi",
      "photoUrl": "https://lh3.googleusercontent.com/a/default-user=s64",
      "userId": "11974964777379766366"
     },
     "user_tz": -420
    },
    "id": "kTa4iXDjBjbf",
    "outputId": "88defde7-aed4-4206-83e2-7e76bac04fcc"
   },
   "outputs": [
    {
     "data": {
      "image/png": "[encoded data removed]",
      "text/plain": [
       "<Figure size 1008x720 with 1 Axes>"
      ]
     },
     "metadata": {
      "needs_background": "light"
     },
     "output_type": "display_data"
    }
   ],
   "source": [
    "# Visualizing data_price\n",
    "\n",
    "fig = plt.figure(figsize=(14,10))                 \n",
    "plt.plot(data_price,c=\"red\")\n",
    "plt.title(\"Harga Saham INDF\",fontsize=16)\n",
    "plt.xlabel(\"Days\",fontsize=16)\n",
    "plt.ylabel(\"Price\",fontsize=16)\n",
    "plt.grid()\n",
    "fig.savefig('saham.png')\n",
    "plt.show()"
   ]
  },
  {
   "cell_type": "markdown",
   "metadata": {
    "_uuid": "0ed6338b04615f1c9b8aee0c017a21c5f6c9f44e",
    "id": "4cQ5WQ59Bjbf"
   },
   "source": [
    "###  Data Preprocessing"
   ]
  },
  {
   "cell_type": "code",
   "execution_count": 176,
   "metadata": {
    "_uuid": "77340783a8ce9d6b1a7bd66eb0adf38fb8dea48b",
    "executionInfo": {
     "elapsed": 19,
     "status": "ok",
     "timestamp": 1640356073514,
     "user": {
      "displayName": "Komang Uning Sari Devi",
      "photoUrl": "https://lh3.googleusercontent.com/a/default-user=s64",
      "userId": "11974964777379766366"
     },
     "user_tz": -420
    },
    "id": "eRrStayeBjbg"
   },
   "outputs": [],
   "source": [
    "# Menskalakan data antara 1 dan 0 (scaling) pada data_price\n",
    "\n",
    "scaler = MinMaxScaler(feature_range=(0,1))"
   ]
  },
  {
   "cell_type": "code",
   "execution_count": 177,
   "metadata": {
    "executionInfo": {
     "elapsed": 19,
     "status": "ok",
     "timestamp": 1640356073514,
     "user": {
      "displayName": "Komang Uning Sari Devi",
      "photoUrl": "https://lh3.googleusercontent.com/a/default-user=s64",
      "userId": "11974964777379766366"
     },
     "user_tz": -420
    },
    "id": "8rUanMT6cUoR"
   },
   "outputs": [],
   "source": [
    "price_scaled = scaler.fit_transform(data_price)\n",
    "peramalan_20_des = scaler.fit_transform(peramalan_20_des)\n",
    "peramalan_23_des = scaler.fit_transform(peramalan_23_des)"
   ]
  },
  {
   "cell_type": "code",
   "execution_count": 178,
   "metadata": {
    "colab": {
     "base_uri": "https://localhost:8080/"
    },
    "executionInfo": {
     "elapsed": 414,
     "status": "ok",
     "timestamp": 1640356073910,
     "user": {
      "displayName": "Komang Uning Sari Devi",
      "photoUrl": "https://lh3.googleusercontent.com/a/default-user=s64",
      "userId": "11974964777379766366"
     },
     "user_tz": -420
    },
    "id": "tvQroBuQyG8n",
    "outputId": "37b0db15-9d22-429e-954f-a8080a1e731b"
   },
   "outputs": [
    {
     "data": {
      "text/plain": [
       "array([[0.76923077],\n",
       "       [1.        ],\n",
       "       [0.92307692],\n",
       "       [0.76923077],\n",
       "       [0.53846154],\n",
       "       [0.15384615],\n",
       "       [0.61538462],\n",
       "       [0.        ],\n",
       "       [0.69230769],\n",
       "       [0.53846154],\n",
       "       [0.46153846],\n",
       "       [0.38461538],\n",
       "       [0.15384615],\n",
       "       [0.23076923],\n",
       "       [0.76923077],\n",
       "       [1.        ],\n",
       "       [0.76923077],\n",
       "       [0.46153846],\n",
       "       [0.61538462],\n",
       "       [0.38461538],\n",
       "       [0.53846154]])"
      ]
     },
     "execution_count": 178,
     "metadata": {},
     "output_type": "execute_result"
    }
   ],
   "source": [
    "peramalan_20_des"
   ]
  },
  {
   "cell_type": "code",
   "execution_count": 179,
   "metadata": {
    "_uuid": "47988513e859e73a34e041fa5131518451fac658",
    "executionInfo": {
     "elapsed": 38,
     "status": "ok",
     "timestamp": 1640356073911,
     "user": {
      "displayName": "Komang Uning Sari Devi",
      "photoUrl": "https://lh3.googleusercontent.com/a/default-user=s64",
      "userId": "11974964777379766366"
     },
     "user_tz": -420
    },
    "id": "oy2SLHJiBjbg"
   },
   "outputs": [],
   "source": [
    "# definisikan variabel step dan train \n",
    "\n",
    "step_size = 21\n",
    "train_x = []\n",
    "train_y = []"
   ]
  },
  {
   "cell_type": "code",
   "execution_count": 180,
   "metadata": {
    "_uuid": "5b23b8ae7d949d774e89d3c9c4115a941737b5ea",
    "executionInfo": {
     "elapsed": 37,
     "status": "ok",
     "timestamp": 1640356073911,
     "user": {
      "displayName": "Komang Uning Sari Devi",
      "photoUrl": "https://lh3.googleusercontent.com/a/default-user=s64",
      "userId": "11974964777379766366"
     },
     "user_tz": -420
    },
    "id": "k3d4Py1OBjbg"
   },
   "outputs": [],
   "source": [
    "# membuat fitur dan lists label\n",
    "\n",
    "for i in range(step_size,2376):               \n",
    "    train_x.append(price_scaled[i-step_size:i,0])\n",
    "    train_y.append(price_scaled[i,0])"
   ]
  },
  {
   "cell_type": "code",
   "execution_count": 181,
   "metadata": {
    "colab": {
     "base_uri": "https://localhost:8080/"
    },
    "executionInfo": {
     "elapsed": 38,
     "status": "ok",
     "timestamp": 1640356073912,
     "user": {
      "displayName": "Komang Uning Sari Devi",
      "photoUrl": "https://lh3.googleusercontent.com/a/default-user=s64",
      "userId": "11974964777379766366"
     },
     "user_tz": -420
    },
    "id": "iag2b090lqLm",
    "outputId": "d41cbbb8-fac4-4301-bb50-338994ead77b"
   },
   "outputs": [
    {
     "data": {
      "text/plain": [
       "0.05789473684210522"
      ]
     },
     "execution_count": 181,
     "metadata": {},
     "output_type": "execute_result"
    }
   ],
   "source": [
    "price_scaled[21,0]"
   ]
  },
  {
   "cell_type": "code",
   "execution_count": 182,
   "metadata": {
    "colab": {
     "base_uri": "https://localhost:8080/"
    },
    "executionInfo": {
     "elapsed": 34,
     "status": "ok",
     "timestamp": 1640356073912,
     "user": {
      "displayName": "Komang Uning Sari Devi",
      "photoUrl": "https://lh3.googleusercontent.com/a/default-user=s64",
      "userId": "11974964777379766366"
     },
     "user_tz": -420
    },
    "id": "9eZY-PqXmShx",
    "outputId": "cb8241c2-6baa-4de9-b2cb-59f37870f823"
   },
   "outputs": [
    {
     "data": {
      "text/plain": [
       "array([0.12631579, 0.12105263, 0.11052632, 0.10526316, 0.1       ,\n",
       "       0.1       , 0.08947368, 0.08947368, 0.09473684, 0.08947368,\n",
       "       0.08421053, 0.09473684, 0.09473684, 0.08947368, 0.07894737,\n",
       "       0.07368421, 0.07368421, 0.07894737, 0.07894737, 0.06842105,\n",
       "       0.07368421])"
      ]
     },
     "execution_count": 182,
     "metadata": {},
     "output_type": "execute_result"
    }
   ],
   "source": [
    "price_scaled[0:21, 0]"
   ]
  },
  {
   "cell_type": "code",
   "execution_count": 183,
   "metadata": {
    "colab": {
     "base_uri": "https://localhost:8080/"
    },
    "executionInfo": {
     "elapsed": 29,
     "status": "ok",
     "timestamp": 1640356073912,
     "user": {
      "displayName": "Komang Uning Sari Devi",
      "photoUrl": "https://lh3.googleusercontent.com/a/default-user=s64",
      "userId": "11974964777379766366"
     },
     "user_tz": -420
    },
    "id": "v4bs3XL00BRZ",
    "outputId": "abb08dc0-8e65-43c9-f662-18c832362eff"
   },
   "outputs": [
    {
     "data": {
      "text/plain": [
       "array([[0.12631579],\n",
       "       [0.12105263],\n",
       "       [0.11052632],\n",
       "       ...,\n",
       "       [0.44210526],\n",
       "       [0.42631579],\n",
       "       [0.43684211]])"
      ]
     },
     "execution_count": 183,
     "metadata": {},
     "output_type": "execute_result"
    }
   ],
   "source": [
    "price_scaled"
   ]
  },
  {
   "cell_type": "code",
   "execution_count": 184,
   "metadata": {
    "_uuid": "7afe032f495d63420e151b189c323b91e6fe76d4",
    "executionInfo": {
     "elapsed": 28,
     "status": "ok",
     "timestamp": 1640356073913,
     "user": {
      "displayName": "Komang Uning Sari Devi",
      "photoUrl": "https://lh3.googleusercontent.com/a/default-user=s64",
      "userId": "11974964777379766366"
     },
     "user_tz": -420
    },
    "id": "4w2-9i8fBjbh"
   },
   "outputs": [],
   "source": [
    "# mengonversi list yang telah dibuat sebelumnya ke array\n",
    "\n",
    "train_x = np.array(train_x)\n",
    "train_y = np.array(train_y)\n",
    "peramalan_20_des = np.array(peramalan_20_des)\n",
    "peramalan_23_des = np.array(peramalan_23_des)"
   ]
  },
  {
   "cell_type": "code",
   "execution_count": 185,
   "metadata": {
    "colab": {
     "base_uri": "https://localhost:8080/"
    },
    "executionInfo": {
     "elapsed": 27,
     "status": "ok",
     "timestamp": 1640356073913,
     "user": {
      "displayName": "Komang Uning Sari Devi",
      "photoUrl": "https://lh3.googleusercontent.com/a/default-user=s64",
      "userId": "11974964777379766366"
     },
     "user_tz": -420
    },
    "id": "Z7AbUAVxv8GB",
    "outputId": "e2c49096-6aa5-4475-edff-d60c35bbb6e1"
   },
   "outputs": [
    {
     "data": {
      "text/plain": [
       "(21, 1)"
      ]
     },
     "execution_count": 185,
     "metadata": {},
     "output_type": "execute_result"
    }
   ],
   "source": [
    "peramalan_20_des.shape\n",
    "peramalan_23_des.shape"
   ]
  },
  {
   "cell_type": "code",
   "execution_count": 186,
   "metadata": {
    "_uuid": "c5c05709eb62cd77d0b023ce9c2d4cc9d69bcdcf",
    "colab": {
     "base_uri": "https://localhost:8080/"
    },
    "executionInfo": {
     "elapsed": 25,
     "status": "ok",
     "timestamp": 1640356073913,
     "user": {
      "displayName": "Komang Uning Sari Devi",
      "photoUrl": "https://lh3.googleusercontent.com/a/default-user=s64",
      "userId": "11974964777379766366"
     },
     "user_tz": -420
    },
    "id": "SBja-tqMBjbh",
    "outputId": "1063533c-a7c1-4384-b034-536e174381a9"
   },
   "outputs": [
    {
     "name": "stdout",
     "output_type": "stream",
     "text": [
      "Dimensi dari variabel bebas adalah: (2355, 21)\n",
      "Dimensi dari variabel terikat adalah: (2355,)\n"
     ]
    }
   ],
   "source": [
    "# cek dimensi data dengan function .shape\n",
    "\n",
    "print(\"Dimensi dari variabel bebas adalah:\", train_x.shape) \n",
    "print(\"Dimensi dari variabel terikat adalah:\", train_y.shape)                        "
   ]
  },
  {
   "cell_type": "code",
   "execution_count": 187,
   "metadata": {
    "_uuid": "dfcc9188e7c1329d9f2c10e5d72ea40f4e168802",
    "executionInfo": {
     "elapsed": 22,
     "status": "ok",
     "timestamp": 1640356073914,
     "user": {
      "displayName": "Komang Uning Sari Devi",
      "photoUrl": "https://lh3.googleusercontent.com/a/default-user=s64",
      "userId": "11974964777379766366"
     },
     "user_tz": -420
    },
    "id": "D6zDyBOJBjbh"
   },
   "outputs": [],
   "source": [
    "# 707 hari terakhir akan digunakan dalam pengujian\n",
    "# 1648 hari pertama akan digunakan dalam pelatihan\n",
    "\n",
    "test_x = train_x[1648:]            \n",
    "train_x = train_x[:1648]           \n",
    "test_y = train_y[1648:]  \n",
    "train_y = train_y[:1648]"
   ]
  },
  {
   "cell_type": "code",
   "execution_count": 188,
   "metadata": {
    "_uuid": "75911a4fb246652ef811a6bc967e2de45ec56bbb",
    "executionInfo": {
     "elapsed": 22,
     "status": "ok",
     "timestamp": 1640356073914,
     "user": {
      "displayName": "Komang Uning Sari Devi",
      "photoUrl": "https://lh3.googleusercontent.com/a/default-user=s64",
      "userId": "11974964777379766366"
     },
     "user_tz": -420
    },
    "id": "iUyiR2pWBjbi"
   },
   "outputs": [],
   "source": [
    "# reshape data untuk dimasukkan kedalam Keras model\n",
    "\n",
    "train_x = np.reshape(train_x, (1648, step_size, 1))           \n",
    "test_x = np.reshape(test_x, (707, step_size, 1))\n",
    "peramalan_20_des = np.reshape(peramalan_20_des, (1, 21,1))\n",
    "peramalan_23_des = np.reshape(peramalan_23_des, (1, 21,1))"
   ]
  },
  {
   "cell_type": "code",
   "execution_count": 189,
   "metadata": {
    "_uuid": "39807a2261f198b8ad0e1b15f7d277bac14fbe79",
    "colab": {
     "base_uri": "https://localhost:8080/"
    },
    "executionInfo": {
     "elapsed": 21,
     "status": "ok",
     "timestamp": 1640356073914,
     "user": {
      "displayName": "Komang Uning Sari Devi",
      "photoUrl": "https://lh3.googleusercontent.com/a/default-user=s64",
      "userId": "11974964777379766366"
     },
     "user_tz": -420
    },
    "id": "N_lHICQbBjbi",
    "outputId": "306c2d23-33f3-4fe9-d4aa-be21276f8b01"
   },
   "outputs": [
    {
     "name": "stdout",
     "output_type": "stream",
     "text": [
      "(1648, 21, 1)\n",
      "(707, 21, 1)\n",
      "(1, 21, 1)\n",
      "(1, 21, 1)\n"
     ]
    }
   ],
   "source": [
    "# cek kembali dimensi data yang telah di reshape dengan function .shape\n",
    "\n",
    "print(train_x.shape)\n",
    "print(test_x.shape)    \n",
    "print(peramalan_20_des.shape)  \n",
    "print(peramalan_23_des.shape)                  "
   ]
  },
  {
   "cell_type": "markdown",
   "metadata": {
    "_uuid": "36ce211bae2ce73bb74f9c68bebd8341bfa4dcaa",
    "id": "zZXaLn31Bjbi"
   },
   "source": [
    "Sekarang kita bisa mulai membuat model kita, dimulai dengan RNN"
   ]
  },
  {
   "cell_type": "markdown",
   "metadata": {
    "_uuid": "0ed6338b04615f1c9b8aee0c017a21c5f6c9f44e",
    "id": "XCWG0p6jBjbi"
   },
   "source": [
    "###  Build Model - RNN"
   ]
  },
  {
   "cell_type": "code",
   "execution_count": 190,
   "metadata": {
    "_uuid": "7c537bd5662768a89af0ca153cc873dffe3c357f",
    "executionInfo": {
     "elapsed": 18,
     "status": "ok",
     "timestamp": 1640356073915,
     "user": {
      "displayName": "Komang Uning Sari Devi",
      "photoUrl": "https://lh3.googleusercontent.com/a/default-user=s64",
      "userId": "11974964777379766366"
     },
     "user_tz": -420
    },
    "id": "NeWFlGp2Bjbj"
   },
   "outputs": [],
   "source": [
    "# buat varibel penampung model RNN\n",
    "rnn_model = Sequential()"
   ]
  },
  {
   "cell_type": "code",
   "execution_count": 191,
   "metadata": {
    "_uuid": "b8d82124786360d2839b63165fb242921d93f8a1",
    "executionInfo": {
     "elapsed": 17,
     "status": "ok",
     "timestamp": 1640356073915,
     "user": {
      "displayName": "Komang Uning Sari Devi",
      "photoUrl": "https://lh3.googleusercontent.com/a/default-user=s64",
      "userId": "11974964777379766366"
     },
     "user_tz": -420
    },
    "id": "eRBMfWQqBjbj"
   },
   "outputs": [],
   "source": [
    "# Output dari SimpleRNN akan menjadi bentuk tensor 2D (batch_size, 40) dengan Dropout sebesar 0.15\n",
    "\n",
    "rnn_model.add(SimpleRNN(40,activation=\"tanh\",return_sequences=True, input_shape=(train_x.shape[1],1)))\n",
    "rnn_model.add(Dropout(0.15))\n",
    "\n",
    "rnn_model.add(SimpleRNN(40,activation=\"tanh\",return_sequences=True))\n",
    "rnn_model.add(Dropout(0.15))\n",
    "\n",
    "rnn_model.add(SimpleRNN(40,activation=\"tanh\",return_sequences=False))\n",
    "rnn_model.add(Dropout(0.15))\n",
    "\n",
    "rnn_model.add(Dense(1))"
   ]
  },
  {
   "cell_type": "code",
   "execution_count": 192,
   "metadata": {
    "_uuid": "e6bfdf03b0efa3c44f001b9f3861de965c8461a8",
    "executionInfo": {
     "elapsed": 16,
     "status": "ok",
     "timestamp": 1640356073915,
     "user": {
      "displayName": "Komang Uning Sari Devi",
      "photoUrl": "https://lh3.googleusercontent.com/a/default-user=s64",
      "userId": "11974964777379766366"
     },
     "user_tz": -420
    },
    "id": "T1UDDmOzBjbj"
   },
   "outputs": [],
   "source": [
    "# menambahkan loss function kedalam model RNN dengan tipe MSE\n",
    "\n",
    "rnn_model.compile(optimizer=\"adam\",loss=\"MSE\")"
   ]
  },
  {
   "cell_type": "code",
   "execution_count": 193,
   "metadata": {
    "_uuid": "44d96eb8a0fa58ecfa5d17df71306006b254ad12",
    "colab": {
     "base_uri": "https://localhost:8080/"
    },
    "executionInfo": {
     "elapsed": 37050,
     "status": "ok",
     "timestamp": 1640356110949,
     "user": {
      "displayName": "Komang Uning Sari Devi",
      "photoUrl": "https://lh3.googleusercontent.com/a/default-user=s64",
      "userId": "11974964777379766366"
     },
     "user_tz": -420
    },
    "id": "kMeRVwA0Bjbj",
    "outputId": "a43717ae-a2e1-4540-e240-3f9cea283301"
   },
   "outputs": [
    {
     "name": "stdout",
     "output_type": "stream",
     "text": [
      "Epoch 1/20\n",
      "66/66 [==============================] - 6s 36ms/step - loss: 0.1688\n",
      "Epoch 2/20\n",
      "66/66 [==============================] - 2s 35ms/step - loss: 0.0658\n",
      "Epoch 3/20\n",
      "66/66 [==============================] - 2s 32ms/step - loss: 0.0422\n",
      "Epoch 4/20\n",
      "66/66 [==============================] - 2s 36ms/step - loss: 0.0273\n",
      "Epoch 5/20\n",
      "66/66 [==============================] - 2s 32ms/step - loss: 0.0214\n",
      "Epoch 6/20\n",
      "66/66 [==============================] - 2s 31ms/step - loss: 0.0184\n",
      "Epoch 7/20\n",
      "66/66 [==============================] - 3s 39ms/step - loss: 0.0148\n",
      "Epoch 8/20\n",
      "66/66 [==============================] - 2s 35ms/step - loss: 0.0148\n",
      "Epoch 9/20\n",
      "66/66 [==============================] - 1s 20ms/step - loss: 0.0124\n",
      "Epoch 10/20\n",
      "66/66 [==============================] - 1s 20ms/step - loss: 0.0105\n",
      "Epoch 11/20\n",
      "66/66 [==============================] - 1s 20ms/step - loss: 0.0097\n",
      "Epoch 12/20\n",
      "66/66 [==============================] - 1s 19ms/step - loss: 0.0095\n",
      "Epoch 13/20\n",
      "66/66 [==============================] - 1s 20ms/step - loss: 0.0084\n",
      "Epoch 14/20\n",
      "66/66 [==============================] - 1s 19ms/step - loss: 0.0082\n",
      "Epoch 15/20\n",
      "66/66 [==============================] - 1s 18ms/step - loss: 0.0072\n",
      "Epoch 16/20\n",
      "66/66 [==============================] - 1s 17ms/step - loss: 0.0070\n",
      "Epoch 17/20\n",
      "66/66 [==============================] - 1s 19ms/step - loss: 0.0060\n",
      "Epoch 18/20\n",
      "66/66 [==============================] - 1s 18ms/step - loss: 0.0060\n",
      "Epoch 19/20\n",
      "66/66 [==============================] - 1s 17ms/step - loss: 0.0054\n",
      "Epoch 20/20\n",
      "66/66 [==============================] - 1s 17ms/step - loss: 0.0053\n"
     ]
    },
    {
     "data": {
      "text/plain": [
       "<keras.callbacks.History at 0x7f2f006c2110>"
      ]
     },
     "execution_count": 193,
     "metadata": {},
     "output_type": "execute_result"
    }
   ],
   "source": [
    "# fit the model RNN, dengan epoch 20 dan batch size 25\n",
    "\n",
    "rnn_model.fit(train_x,train_y,epochs=20,batch_size=25)"
   ]
  },
  {
   "cell_type": "code",
   "execution_count": 194,
   "metadata": {
    "colab": {
     "base_uri": "https://localhost:8080/"
    },
    "executionInfo": {
     "elapsed": 9,
     "status": "ok",
     "timestamp": 1640356110949,
     "user": {
      "displayName": "Komang Uning Sari Devi",
      "photoUrl": "https://lh3.googleusercontent.com/a/default-user=s64",
      "userId": "11974964777379766366"
     },
     "user_tz": -420
    },
    "id": "-zdw4pAZhpaw",
    "outputId": "a77acf96-dcb6-4b8b-a6d9-7a807d42801b"
   },
   "outputs": [
    {
     "name": "stdout",
     "output_type": "stream",
     "text": [
      "Model: \"sequential_4\"\n",
      "_________________________________________________________________\n",
      " Layer (type)                Output Shape              Param #   \n",
      "=================================================================\n",
      " simple_rnn_6 (SimpleRNN)    (None, 21, 40)            1680      \n",
      "                                                                 \n",
      " dropout_12 (Dropout)        (None, 21, 40)            0         \n",
      "                                                                 \n",
      " simple_rnn_7 (SimpleRNN)    (None, 21, 40)            3240      \n",
      "                                                                 \n",
      " dropout_13 (Dropout)        (None, 21, 40)            0         \n",
      "                                                                 \n",
      " simple_rnn_8 (SimpleRNN)    (None, 40)                3240      \n",
      "                                                                 \n",
      " dropout_14 (Dropout)        (None, 40)                0         \n",
      "                                                                 \n",
      " dense_4 (Dense)             (None, 1)                 41        \n",
      "                                                                 \n",
      "=================================================================\n",
      "Total params: 8,201\n",
      "Trainable params: 8,201\n",
      "Non-trainable params: 0\n",
      "_________________________________________________________________\n"
     ]
    }
   ],
   "source": [
    "rnn_model.summary()"
   ]
  },
  {
   "cell_type": "code",
   "execution_count": 195,
   "metadata": {
    "_uuid": "da7338ba384e18f235cd083bd9602c848e7ec8cb",
    "executionInfo": {
     "elapsed": 578,
     "status": "ok",
     "timestamp": 1640356111524,
     "user": {
      "displayName": "Komang Uning Sari Devi",
      "photoUrl": "https://lh3.googleusercontent.com/a/default-user=s64",
      "userId": "11974964777379766366"
     },
     "user_tz": -420
    },
    "id": "j4z12w07Bjbk"
   },
   "outputs": [],
   "source": [
    "# Prediksi Model RNN\n",
    "rnn_predictions = rnn_model.predict(test_x)\n",
    "rnn_score = r2_score(test_y, rnn_predictions)"
   ]
  },
  {
   "cell_type": "code",
   "execution_count": 196,
   "metadata": {
    "colab": {
     "base_uri": "https://localhost:8080/"
    },
    "executionInfo": {
     "elapsed": 20,
     "status": "ok",
     "timestamp": 1640356111525,
     "user": {
      "displayName": "Komang Uning Sari Devi",
      "photoUrl": "https://lh3.googleusercontent.com/a/default-user=s64",
      "userId": "11974964777379766366"
     },
     "user_tz": -420
    },
    "id": "jTlYwj1jBjbk",
    "outputId": "97889695-6bd3-4907-da82-07ec8f14c1c8",
    "scrolled": true
   },
   "outputs": [
    {
     "data": {
      "text/plain": [
       "0.9330838152112406"
      ]
     },
     "execution_count": 196,
     "metadata": {},
     "output_type": "execute_result"
    }
   ],
   "source": [
    "rnn_score"
   ]
  },
  {
   "cell_type": "code",
   "execution_count": 197,
   "metadata": {
    "colab": {
     "base_uri": "https://localhost:8080/"
    },
    "executionInfo": {
     "elapsed": 17,
     "status": "ok",
     "timestamp": 1640356111525,
     "user": {
      "displayName": "Komang Uning Sari Devi",
      "photoUrl": "https://lh3.googleusercontent.com/a/default-user=s64",
      "userId": "11974964777379766366"
     },
     "user_tz": -420
    },
    "id": "SkeygXcp23M5",
    "outputId": "4ae40e8c-fdbf-488e-f1cf-01019b721c47"
   },
   "outputs": [
    {
     "data": {
      "text/plain": [
       "array([[0.4823125]], dtype=float32)"
      ]
     },
     "execution_count": 197,
     "metadata": {},
     "output_type": "execute_result"
    }
   ],
   "source": [
    "peramalan_20_des_rnn = rnn_model.predict(peramalan_20_des)\n",
    "peramalan_20_des_rnn"
   ]
  },
  {
   "cell_type": "code",
   "execution_count": 198,
   "metadata": {
    "colab": {
     "base_uri": "https://localhost:8080/"
    },
    "executionInfo": {
     "elapsed": 13,
     "status": "ok",
     "timestamp": 1640356111526,
     "user": {
      "displayName": "Komang Uning Sari Devi",
      "photoUrl": "https://lh3.googleusercontent.com/a/default-user=s64",
      "userId": "11974964777379766366"
     },
     "user_tz": -420
    },
    "id": "QzvECZpB2-UY",
    "outputId": "f58f1188-cd8a-4cfd-f03d-5156d5813d42"
   },
   "outputs": [
    {
     "data": {
      "text/plain": [
       "array([[6456.7515]], dtype=float32)"
      ]
     },
     "execution_count": 198,
     "metadata": {},
     "output_type": "execute_result"
    }
   ],
   "source": [
    "peramalan_20_des_rnn = scaler.inverse_transform(peramalan_20_des_rnn)\n",
    "peramalan_20_des_rnn"
   ]
  },
  {
   "cell_type": "code",
   "execution_count": 199,
   "metadata": {
    "colab": {
     "base_uri": "https://localhost:8080/"
    },
    "executionInfo": {
     "elapsed": 10,
     "status": "ok",
     "timestamp": 1640356111526,
     "user": {
      "displayName": "Komang Uning Sari Devi",
      "photoUrl": "https://lh3.googleusercontent.com/a/default-user=s64",
      "userId": "11974964777379766366"
     },
     "user_tz": -420
    },
    "id": "LZH-a33R7rzF",
    "outputId": "78861dcd-764e-45fa-9554-141ae6cb5ad1"
   },
   "outputs": [
    {
     "data": {
      "text/plain": [
       "array([[0.12875977]], dtype=float32)"
      ]
     },
     "execution_count": 199,
     "metadata": {},
     "output_type": "execute_result"
    }
   ],
   "source": [
    "peramalan_23_des_rnn = rnn_model.predict(peramalan_23_des)\n",
    "peramalan_23_des_rnn"
   ]
  },
  {
   "cell_type": "code",
   "execution_count": 200,
   "metadata": {
    "colab": {
     "base_uri": "https://localhost:8080/"
    },
    "executionInfo": {
     "elapsed": 9,
     "status": "ok",
     "timestamp": 1640356111527,
     "user": {
      "displayName": "Komang Uning Sari Devi",
      "photoUrl": "https://lh3.googleusercontent.com/a/default-user=s64",
      "userId": "11974964777379766366"
     },
     "user_tz": -420
    },
    "id": "smCsEoNb264L",
    "outputId": "8e690ede-5214-4968-8093-070565c90bfe"
   },
   "outputs": [
    {
     "data": {
      "text/plain": [
       "array([[6341.8467]], dtype=float32)"
      ]
     },
     "execution_count": 200,
     "metadata": {},
     "output_type": "execute_result"
    }
   ],
   "source": [
    "peramalan_23_des_rnn = scaler.inverse_transform(peramalan_23_des_rnn)\n",
    "peramalan_23_des_rnn"
   ]
  },
  {
   "cell_type": "markdown",
   "metadata": {
    "_uuid": "0ed6338b04615f1c9b8aee0c017a21c5f6c9f44e",
    "id": "-gX7PUniBjbk"
   },
   "source": [
    "###  Build Model - LSTM"
   ]
  },
  {
   "cell_type": "code",
   "execution_count": 201,
   "metadata": {
    "_uuid": "b0281b303bd5e032c2115cdf9d6c184908f9bd03",
    "executionInfo": {
     "elapsed": 7,
     "status": "ok",
     "timestamp": 1640356111527,
     "user": {
      "displayName": "Komang Uning Sari Devi",
      "photoUrl": "https://lh3.googleusercontent.com/a/default-user=s64",
      "userId": "11974964777379766366"
     },
     "user_tz": -420
    },
    "id": "USOnTmHsBjbk"
   },
   "outputs": [],
   "source": [
    "# buat varibel penampung model LSTM\n",
    "lstm_model = Sequential()"
   ]
  },
  {
   "cell_type": "code",
   "execution_count": 202,
   "metadata": {
    "_uuid": "fcb29b0dffb87ef05bc4b1c7ce2c03e9fc166770",
    "executionInfo": {
     "elapsed": 1149,
     "status": "ok",
     "timestamp": 1640356112670,
     "user": {
      "displayName": "Komang Uning Sari Devi",
      "photoUrl": "https://lh3.googleusercontent.com/a/default-user=s64",
      "userId": "11974964777379766366"
     },
     "user_tz": -420
    },
    "id": "OZRE2flBBjbk"
   },
   "outputs": [],
   "source": [
    "# Add a LSTM layer with 40 internal units. dengan Dropout sebesar 0.15\n",
    "\n",
    "lstm_model.add(LSTM(40,activation=\"tanh\",return_sequences=True, input_shape=(train_x.shape[1],1)))\n",
    "lstm_model.add(Dropout(0.15))\n",
    "\n",
    "lstm_model.add(LSTM(40,activation=\"tanh\",return_sequences=True))\n",
    "lstm_model.add(Dropout(0.15))\n",
    "\n",
    "lstm_model.add(LSTM(40,activation=\"tanh\",return_sequences=False))\n",
    "lstm_model.add(Dropout(0.15))\n",
    "\n",
    "# Add a Dense layer with 1 units.\n",
    "lstm_model.add(Dense(1))"
   ]
  },
  {
   "cell_type": "code",
   "execution_count": 203,
   "metadata": {
    "_uuid": "d9db1d5c8f05a80cedc9b603b518760266ce6776",
    "executionInfo": {
     "elapsed": 4,
     "status": "ok",
     "timestamp": 1640356112670,
     "user": {
      "displayName": "Komang Uning Sari Devi",
      "photoUrl": "https://lh3.googleusercontent.com/a/default-user=s64",
      "userId": "11974964777379766366"
     },
     "user_tz": -420
    },
    "id": "gJqjrjNbBjbl"
   },
   "outputs": [],
   "source": [
    "# menambahkan loss function kedalam model lstm dengan tipe MSE\n",
    "\n",
    "lstm_model.compile(optimizer=\"adam\",loss=\"MSE\")"
   ]
  },
  {
   "cell_type": "code",
   "execution_count": 204,
   "metadata": {
    "_uuid": "605f71e78831cbef65aef8638670a4fa95b77e85",
    "colab": {
     "base_uri": "https://localhost:8080/"
    },
    "executionInfo": {
     "elapsed": 61815,
     "status": "ok",
     "timestamp": 1640356174482,
     "user": {
      "displayName": "Komang Uning Sari Devi",
      "photoUrl": "https://lh3.googleusercontent.com/a/default-user=s64",
      "userId": "11974964777379766366"
     },
     "user_tz": -420
    },
    "id": "7pKdbjjrBjbl",
    "outputId": "a863b617-e6fb-4652-9d99-83b8fb48d5de"
   },
   "outputs": [
    {
     "name": "stdout",
     "output_type": "stream",
     "text": [
      "Epoch 1/20\n",
      "66/66 [==============================] - 8s 37ms/step - loss: 0.0258\n",
      "Epoch 2/20\n",
      "66/66 [==============================] - 2s 37ms/step - loss: 0.0068\n",
      "Epoch 3/20\n",
      "66/66 [==============================] - 2s 37ms/step - loss: 0.0061\n",
      "Epoch 4/20\n",
      "66/66 [==============================] - 2s 37ms/step - loss: 0.0068\n",
      "Epoch 5/20\n",
      "66/66 [==============================] - 2s 38ms/step - loss: 0.0060\n",
      "Epoch 6/20\n",
      "66/66 [==============================] - 3s 38ms/step - loss: 0.0052\n",
      "Epoch 7/20\n",
      "66/66 [==============================] - 2s 36ms/step - loss: 0.0050\n",
      "Epoch 8/20\n",
      "66/66 [==============================] - 2s 38ms/step - loss: 0.0053\n",
      "Epoch 9/20\n",
      "66/66 [==============================] - 4s 59ms/step - loss: 0.0049\n",
      "Epoch 10/20\n",
      "66/66 [==============================] - 5s 72ms/step - loss: 0.0046\n",
      "Epoch 11/20\n",
      "66/66 [==============================] - 5s 78ms/step - loss: 0.0045\n",
      "Epoch 12/20\n",
      "66/66 [==============================] - 2s 37ms/step - loss: 0.0041\n",
      "Epoch 13/20\n",
      "66/66 [==============================] - 2s 36ms/step - loss: 0.0041\n",
      "Epoch 14/20\n",
      "66/66 [==============================] - 3s 38ms/step - loss: 0.0040\n",
      "Epoch 15/20\n",
      "66/66 [==============================] - 3s 39ms/step - loss: 0.0040\n",
      "Epoch 16/20\n",
      "66/66 [==============================] - 3s 38ms/step - loss: 0.0039\n",
      "Epoch 17/20\n",
      "66/66 [==============================] - 2s 37ms/step - loss: 0.0040\n",
      "Epoch 18/20\n",
      "66/66 [==============================] - 3s 38ms/step - loss: 0.0038\n",
      "Epoch 19/20\n",
      "66/66 [==============================] - 3s 38ms/step - loss: 0.0038\n",
      "Epoch 20/20\n",
      "66/66 [==============================] - 3s 38ms/step - loss: 0.0034\n"
     ]
    },
    {
     "data": {
      "text/plain": [
       "<keras.callbacks.History at 0x7f2f020bcc90>"
      ]
     },
     "execution_count": 204,
     "metadata": {},
     "output_type": "execute_result"
    }
   ],
   "source": [
    "# fit lstm model, dengan epoch 20 dan batch size 25\n",
    "\n",
    "lstm_model.fit(train_x,train_y,epochs=20,batch_size=25)"
   ]
  },
  {
   "cell_type": "code",
   "execution_count": 205,
   "metadata": {
    "_uuid": "411eafbf6eb7f155f10461be59d6ab371893e62f",
    "executionInfo": {
     "elapsed": 2263,
     "status": "ok",
     "timestamp": 1640356176733,
     "user": {
      "displayName": "Komang Uning Sari Devi",
      "photoUrl": "https://lh3.googleusercontent.com/a/default-user=s64",
      "userId": "11974964777379766366"
     },
     "user_tz": -420
    },
    "id": "TRa3sDogBjbl"
   },
   "outputs": [],
   "source": [
    "# Prediksi Model LSTM\n",
    "lstm_predictions = lstm_model.predict(test_x)\n",
    "\n",
    "lstm_score = r2_score(test_y,lstm_predictions)"
   ]
  },
  {
   "cell_type": "code",
   "execution_count": 206,
   "metadata": {
    "colab": {
     "base_uri": "https://localhost:8080/"
    },
    "executionInfo": {
     "elapsed": 25,
     "status": "ok",
     "timestamp": 1640356176733,
     "user": {
      "displayName": "Komang Uning Sari Devi",
      "photoUrl": "https://lh3.googleusercontent.com/a/default-user=s64",
      "userId": "11974964777379766366"
     },
     "user_tz": -420
    },
    "id": "5t-DEnVXtZbM",
    "outputId": "b2b0a354-b979-4afc-88d7-deea1715d2db"
   },
   "outputs": [
    {
     "name": "stdout",
     "output_type": "stream",
     "text": [
      "Model: \"sequential_5\"\n",
      "_________________________________________________________________\n",
      " Layer (type)                Output Shape              Param #   \n",
      "=================================================================\n",
      " lstm_6 (LSTM)               (None, 21, 40)            6720      \n",
      "                                                                 \n",
      " dropout_15 (Dropout)        (None, 21, 40)            0         \n",
      "                                                                 \n",
      " lstm_7 (LSTM)               (None, 21, 40)            12960     \n",
      "                                                                 \n",
      " dropout_16 (Dropout)        (None, 21, 40)            0         \n",
      "                                                                 \n",
      " lstm_8 (LSTM)               (None, 40)                12960     \n",
      "                                                                 \n",
      " dropout_17 (Dropout)        (None, 40)                0         \n",
      "                                                                 \n",
      " dense_5 (Dense)             (None, 1)                 41        \n",
      "                                                                 \n",
      "=================================================================\n",
      "Total params: 32,681\n",
      "Trainable params: 32,681\n",
      "Non-trainable params: 0\n",
      "_________________________________________________________________\n"
     ]
    }
   ],
   "source": [
    "lstm_model.summary()"
   ]
  },
  {
   "cell_type": "code",
   "execution_count": 207,
   "metadata": {
    "_uuid": "6940c2d59c0762be788df610509d5b73373e38a0",
    "colab": {
     "base_uri": "https://localhost:8080/"
    },
    "executionInfo": {
     "elapsed": 24,
     "status": "ok",
     "timestamp": 1640356176734,
     "user": {
      "displayName": "Komang Uning Sari Devi",
      "photoUrl": "https://lh3.googleusercontent.com/a/default-user=s64",
      "userId": "11974964777379766366"
     },
     "user_tz": -420
    },
    "id": "sAeKFGjjBjbl",
    "outputId": "4307d291-6bad-4dbe-fa4d-0f8c0ccefb47",
    "scrolled": true
   },
   "outputs": [
    {
     "data": {
      "text/plain": [
       "0.8341684802010536"
      ]
     },
     "execution_count": 207,
     "metadata": {},
     "output_type": "execute_result"
    }
   ],
   "source": [
    "lstm_score"
   ]
  },
  {
   "cell_type": "code",
   "execution_count": 208,
   "metadata": {
    "colab": {
     "base_uri": "https://localhost:8080/"
    },
    "executionInfo": {
     "elapsed": 20,
     "status": "ok",
     "timestamp": 1640356176734,
     "user": {
      "displayName": "Komang Uning Sari Devi",
      "photoUrl": "https://lh3.googleusercontent.com/a/default-user=s64",
      "userId": "11974964777379766366"
     },
     "user_tz": -420
    },
    "id": "rzbMVsWOw6vU",
    "outputId": "55d40689-9d19-42ee-cec4-48452d1fb360"
   },
   "outputs": [
    {
     "data": {
      "text/plain": [
       "array([[0.6264094]], dtype=float32)"
      ]
     },
     "execution_count": 208,
     "metadata": {},
     "output_type": "execute_result"
    }
   ],
   "source": [
    "peramalan_20_des_lstm = lstm_model.predict(peramalan_20_des)\n",
    "peramalan_20_des_lstm"
   ]
  },
  {
   "cell_type": "code",
   "execution_count": 209,
   "metadata": {
    "colab": {
     "base_uri": "https://localhost:8080/"
    },
    "executionInfo": {
     "elapsed": 18,
     "status": "ok",
     "timestamp": 1640356176735,
     "user": {
      "displayName": "Komang Uning Sari Devi",
      "photoUrl": "https://lh3.googleusercontent.com/a/default-user=s64",
      "userId": "11974964777379766366"
     },
     "user_tz": -420
    },
    "id": "7hmzrJP_yQMF",
    "outputId": "4730ef49-6ffa-423b-91cd-0c758d73c79b"
   },
   "outputs": [
    {
     "data": {
      "text/plain": [
       "array([[6503.583]], dtype=float32)"
      ]
     },
     "execution_count": 209,
     "metadata": {},
     "output_type": "execute_result"
    }
   ],
   "source": [
    "peramalan_20_des_lstm = scaler.inverse_transform(peramalan_20_des_lstm)\n",
    "peramalan_20_des_lstm"
   ]
  },
  {
   "cell_type": "code",
   "execution_count": 210,
   "metadata": {
    "colab": {
     "base_uri": "https://localhost:8080/"
    },
    "executionInfo": {
     "elapsed": 16,
     "status": "ok",
     "timestamp": 1640356176735,
     "user": {
      "displayName": "Komang Uning Sari Devi",
      "photoUrl": "https://lh3.googleusercontent.com/a/default-user=s64",
      "userId": "11974964777379766366"
     },
     "user_tz": -420
    },
    "id": "5a9t16v97y0O",
    "outputId": "56f46284-896f-4558-a8f1-87c1e27a9edd"
   },
   "outputs": [
    {
     "data": {
      "text/plain": [
       "array([[0.45974228]], dtype=float32)"
      ]
     },
     "execution_count": 210,
     "metadata": {},
     "output_type": "execute_result"
    }
   ],
   "source": [
    "peramalan_23_des_lstm = lstm_model.predict(peramalan_23_des)\n",
    "peramalan_23_des_lstm"
   ]
  },
  {
   "cell_type": "code",
   "execution_count": 211,
   "metadata": {
    "colab": {
     "base_uri": "https://localhost:8080/"
    },
    "executionInfo": {
     "elapsed": 14,
     "status": "ok",
     "timestamp": 1640356176736,
     "user": {
      "displayName": "Komang Uning Sari Devi",
      "photoUrl": "https://lh3.googleusercontent.com/a/default-user=s64",
      "userId": "11974964777379766366"
     },
     "user_tz": -420
    },
    "id": "IwjrLG3C7zAc",
    "outputId": "dde693cd-1cb1-4445-b9c9-f074581793e4"
   },
   "outputs": [
    {
     "data": {
      "text/plain": [
       "array([[6449.4165]], dtype=float32)"
      ]
     },
     "execution_count": 211,
     "metadata": {},
     "output_type": "execute_result"
    }
   ],
   "source": [
    "peramalan_23_des_lstm = scaler.inverse_transform(peramalan_23_des_lstm)\n",
    "peramalan_23_des_lstm"
   ]
  },
  {
   "cell_type": "markdown",
   "metadata": {
    "_uuid": "0ed6338b04615f1c9b8aee0c017a21c5f6c9f44e",
    "id": "1GpcNJgzBjbm"
   },
   "source": [
    "### Evaluation"
   ]
  },
  {
   "cell_type": "code",
   "execution_count": 212,
   "metadata": {
    "_uuid": "1e2dcc7ce554b96eeefe27b7a34e1194351b54f3",
    "colab": {
     "base_uri": "https://localhost:8080/"
    },
    "executionInfo": {
     "elapsed": 11,
     "status": "ok",
     "timestamp": 1640356176736,
     "user": {
      "displayName": "Komang Uning Sari Devi",
      "photoUrl": "https://lh3.googleusercontent.com/a/default-user=s64",
      "userId": "11974964777379766366"
     },
     "user_tz": -420
    },
    "id": "GJPQnxHyBjbm",
    "outputId": "72116567-048b-4d18-8589-faa2a6955c00"
   },
   "outputs": [
    {
     "name": "stdout",
     "output_type": "stream",
     "text": [
      "R^2 Score of RNN 0.9330838152112406\n",
      "R^2 Score of LSTM 0.8341684802010536\n"
     ]
    }
   ],
   "source": [
    "# Cetak nilai prediksi masing-masing model dengan menggunakan r^2 square\n",
    "\n",
    "print(\"R^2 Score of RNN\",rnn_score)\n",
    "print(\"R^2 Score of LSTM\",lstm_score)"
   ]
  },
  {
   "cell_type": "markdown",
   "metadata": {
    "id": "RmSdPWj7Bjbm"
   },
   "source": [
    "### Visualisasi Perbandingan Hasil Model prediksi dengan data original "
   ]
  },
  {
   "cell_type": "code",
   "execution_count": 213,
   "metadata": {
    "_uuid": "feeb5905d3e1767d3d4cd93e4ce834d6f89e98fc",
    "executionInfo": {
     "elapsed": 9,
     "status": "ok",
     "timestamp": 1640356176737,
     "user": {
      "displayName": "Komang Uning Sari Devi",
      "photoUrl": "https://lh3.googleusercontent.com/a/default-user=s64",
      "userId": "11974964777379766366"
     },
     "user_tz": -420
    },
    "id": "DJH9N9FFBjbm"
   },
   "outputs": [],
   "source": [
    "lstm_predictions = scaler.inverse_transform(lstm_predictions)\n",
    "rnn_predictions = scaler.inverse_transform(rnn_predictions)\n",
    "test_y = scaler.inverse_transform(test_y.reshape(-1,1))"
   ]
  },
  {
   "cell_type": "code",
   "execution_count": 214,
   "metadata": {
    "_uuid": "e9cf7c92445b1ec84e7597139cf49770b8282924",
    "colab": {
     "base_uri": "https://localhost:8080/",
     "height": 645
    },
    "executionInfo": {
     "elapsed": 4985,
     "status": "ok",
     "timestamp": 1640356181713,
     "user": {
      "displayName": "Komang Uning Sari Devi",
      "photoUrl": "https://lh3.googleusercontent.com/a/default-user=s64",
      "userId": "11974964777379766366"
     },
     "user_tz": -420
    },
    "id": "xNc9hgLGBjbm",
    "outputId": "cdb32dfd-9670-4bfa-aeed-0f098d0ef2b4"
   },
   "outputs": [
    {
     "data": {
      "image/png": "[encoded data removed]",
      "text/plain": [
       "<Figure size 1152x864 with 1 Axes>"
      ]
     },
     "metadata": {
      "needs_background": "light"
     },
     "output_type": "display_data"
    }
   ],
   "source": [
    "plt.figure(figsize=(16,12))\n",
    "\n",
    "plt.plot(test_y, c=\"blue\",linewidth=2, label=\"original\")\n",
    "plt.plot(lstm_predictions, c=\"green\",linewidth=2, label=\"LSTM\")\n",
    "plt.plot(rnn_predictions, c=\"red\",linewidth=2, label=\"RNN\")\n",
    "plt.legend()\n",
    "plt.title(\"PERBANDINGAN\",fontsize=20)\n",
    "plt.grid()\n",
    "plt.savefig('peramalan saham.jpg', bbox_inches='tight', dpi=150)\n",
    "plt.show()"
   ]
  }
 ],
 "metadata": {
  "colab": {
   "collapsed_sections": [],
   "name": "Copy of Analisis Saham.ipynb",
   "provenance": []
  },
  "kernelspec": {
   "display_name": "Python 3",
   "language": "python",
   "name": "python3"
  },
  "language_info": {
   "codemirror_mode": {
    "name": "ipython",
    "version": 3
   },
   "file_extension": ".py",
   "mimetype": "text/x-python",
   "name": "python",
   "nbconvert_exporter": "python",
   "pygments_lexer": "ipython3",
   "version": "3.8.8"
  }
 },
 "nbformat": 4,
 "nbformat_minor": 1
}
